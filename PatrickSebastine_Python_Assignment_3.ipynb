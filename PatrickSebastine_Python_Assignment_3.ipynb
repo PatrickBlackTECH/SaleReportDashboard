{
 "cells": [
  {
   "cell_type": "markdown",
   "id": "8ba47b49",
   "metadata": {},
   "source": [
    "Python Assignment 3\n",
    "======"
   ]
  },
  {
   "cell_type": "code",
   "execution_count": 2,
   "id": "740b3475",
   "metadata": {},
   "outputs": [
    {
     "name": "stdout",
     "output_type": "stream",
     "text": [
      "Enter first number: 9\n",
      "Enter second number: 12\n",
      "Enter calculator operator: +\n",
      "For 9 + 12, the answer =  21\n"
     ]
    }
   ],
   "source": [
    "#Question 1\n",
    "# 1. create a mini calculator that takes two inputs from the users and operator. \n",
    "# it should return the evaluation of the values entered.\n",
    "# Eg. If the user enters 2, 4, *, it should return the value of 2 * 4.\n",
    "# The same should apply if the user enters 10, 2, /. It should return 10/2\n",
    "\n",
    "number1 = int(input(\"Enter first number: \"))\n",
    "number2 = int(input(\"Enter second number: \"))\n",
    "operator = input(\"Enter calculator operator: \")\n",
    "if operator == '+' :\n",
    "    print(f'For {number1} {operator} {number2}, the answer = ',number1 + number2)\n",
    "elif operator == '*' :\n",
    "    print(f'For {number1} {operator} {number2}, the answer = ',number1 * number2)\n",
    "elif operator == '-' :\n",
    "    print(f'For {number1} {operator} {number2}, the answer = ',number1 - number2)\n",
    "elif operator == '/' :\n",
    "    print(f'For {number1} {operator} {number2}, the answer = ', number1 / number2) "
   ]
  },
  {
   "cell_type": "code",
   "execution_count": 3,
   "id": "005eb820",
   "metadata": {},
   "outputs": [
    {
     "data": {
      "text/plain": [
       "'this the time to training'"
      ]
     },
     "execution_count": 3,
     "metadata": {},
     "output_type": "execute_result"
    }
   ],
   "source": [
    "# Question 2\n",
    "# record = \"this is the time to attend python training\"\n",
    "# bring out the words that start from 't'\n",
    "\n",
    "record = \"this is the time to attend python training\"\n",
    "\n",
    "record_list = record.split()\n",
    "record_list\n",
    "record = record_list[0],record_list[2],record_list[3],record_list[4],record_list[7]\n",
    "record\n",
    "\" \".join(record)"
   ]
  },
  {
   "cell_type": "code",
   "execution_count": 4,
   "id": "487a0bb8",
   "metadata": {},
   "outputs": [
    {
     "name": "stdout",
     "output_type": "stream",
     "text": [
      "Enter a number between 0 and 10: 6\n",
      "Generated random number is 4\n",
      "Your guess is too high\n"
     ]
    }
   ],
   "source": [
    "# 3. create a program that generates a random number and ask the user to guess the number.\n",
    "# If user guess right, print you win otherwise print, \n",
    "# guess is too large if the input is higher or guess is too low if input is lesser\n",
    "\n",
    "import numpy as np\n",
    "number = np.random.randint(10)\n",
    "user_guess = int(input(\"Enter a number between 0 and 10: \"))\n",
    "print(f'Generated random number is {number}')\n",
    "\n",
    "if number > user_guess:\n",
    "    print(\"Your guess is too low\")\n",
    "elif number < user_guess:\n",
    "    print(\"Your guess is too high\")\n",
    "elif number == user_guess:\n",
    "    print(\"You win\")"
   ]
  },
  {
   "cell_type": "code",
   "execution_count": 5,
   "id": "522c2f4e",
   "metadata": {},
   "outputs": [],
   "source": [
    "# 4. Write a program that prints the integers from 1 to 100. \n",
    "# But for multiples of three print \"Fizz\" instead of the number, \n",
    "# and the multiples of five print \"Buzz\". \n",
    "# For numbers which are multiples of both three and five print \"FizzBuzz\"."
   ]
  },
  {
   "cell_type": "code",
   "execution_count": 6,
   "id": "1707d95b",
   "metadata": {},
   "outputs": [
    {
     "name": "stdout",
     "output_type": "stream",
     "text": [
      "1\n",
      "2\n",
      "Fizz\n",
      "4\n",
      "Buzz\n",
      "Fizz\n",
      "7\n",
      "8\n",
      "Fizz\n",
      "Buzz\n",
      "11\n",
      "Fizz\n",
      "13\n",
      "14\n",
      "FizzBuzz\n",
      "16\n",
      "17\n",
      "Fizz\n",
      "19\n",
      "Buzz\n",
      "Fizz\n",
      "22\n",
      "23\n",
      "Fizz\n",
      "Buzz\n",
      "26\n",
      "Fizz\n",
      "28\n",
      "29\n",
      "FizzBuzz\n",
      "31\n",
      "32\n",
      "Fizz\n",
      "34\n",
      "Buzz\n",
      "Fizz\n",
      "37\n",
      "38\n",
      "Fizz\n",
      "Buzz\n",
      "41\n",
      "Fizz\n",
      "43\n",
      "44\n",
      "FizzBuzz\n",
      "46\n",
      "47\n",
      "Fizz\n",
      "49\n",
      "Buzz\n",
      "Fizz\n",
      "52\n",
      "53\n",
      "Fizz\n",
      "Buzz\n",
      "56\n",
      "Fizz\n",
      "58\n",
      "59\n",
      "FizzBuzz\n",
      "61\n",
      "62\n",
      "Fizz\n",
      "64\n",
      "Buzz\n",
      "Fizz\n",
      "67\n",
      "68\n",
      "Fizz\n",
      "Buzz\n",
      "71\n",
      "Fizz\n",
      "73\n",
      "74\n",
      "FizzBuzz\n",
      "76\n",
      "77\n",
      "Fizz\n",
      "79\n",
      "Buzz\n",
      "Fizz\n",
      "82\n",
      "83\n",
      "Fizz\n",
      "Buzz\n",
      "86\n",
      "Fizz\n",
      "88\n",
      "89\n",
      "FizzBuzz\n",
      "91\n",
      "92\n",
      "Fizz\n",
      "94\n",
      "Buzz\n",
      "Fizz\n",
      "97\n",
      "98\n",
      "Fizz\n"
     ]
    }
   ],
   "source": [
    "for i in range(1,100):\n",
    "    if i % 3 == 0 and i % 5 == 0:\n",
    "        print('FizzBuzz')\n",
    "    elif i % 3 == 0:\n",
    "        print('Fizz')\n",
    "    elif i % 5 == 0:\n",
    "        print('Buzz')\n",
    "    else:\n",
    "        print(i)"
   ]
  },
  {
   "cell_type": "code",
   "execution_count": null,
   "id": "9b8c976d",
   "metadata": {},
   "outputs": [],
   "source": []
  },
  {
   "cell_type": "markdown",
   "id": "8bcfb99b",
   "metadata": {},
   "source": [
    "Numpy Assignment\n",
    "======"
   ]
  },
  {
   "cell_type": "code",
   "execution_count": 7,
   "id": "4eb1d9dd",
   "metadata": {},
   "outputs": [
    {
     "data": {
      "text/plain": [
       "array([10, 11, 12, 13, 14, 15, 16, 17, 18, 19, 20, 21, 22, 23, 24, 25, 26,\n",
       "       27, 28, 29, 30, 31, 32, 33, 34, 35, 36, 37, 38, 39, 40, 41, 42, 43,\n",
       "       44, 45, 46, 47, 48, 49, 50])"
      ]
     },
     "execution_count": 7,
     "metadata": {},
     "output_type": "execute_result"
    }
   ],
   "source": [
    "# Question 1. Create an array of the integers from 10 to 50\n",
    "\n",
    "import numpy as np\n",
    "np_array = np.arange(10,51)\n",
    "np_array"
   ]
  },
  {
   "cell_type": "code",
   "execution_count": 8,
   "id": "3d114396",
   "metadata": {},
   "outputs": [
    {
     "data": {
      "text/plain": [
       "array([[0, 1, 2],\n",
       "       [3, 4, 5],\n",
       "       [6, 7, 8]])"
      ]
     },
     "execution_count": 8,
     "metadata": {},
     "output_type": "execute_result"
    }
   ],
   "source": [
    "# Question 2. Create a 3x3 matrix with values ranging from 0 to 8\n",
    "import numpy as np\n",
    "np_flat_array = np.arange(0,9)\n",
    "np_3_x_3_array = np_flat_array.reshape(3,3)\n",
    "np_3_x_3_array"
   ]
  },
  {
   "cell_type": "code",
   "execution_count": 9,
   "id": "26ad426f",
   "metadata": {},
   "outputs": [
    {
     "data": {
      "text/plain": [
       "array([[2.67370768e-01, 5.84803073e-02, 8.19648142e-01, 1.18373383e-01,\n",
       "        6.57996564e-01],\n",
       "       [6.33285547e-01, 9.49902538e-01, 2.80346760e-01, 4.84152906e-01,\n",
       "        4.94095283e-01],\n",
       "       [5.43584545e-01, 3.08537816e-01, 9.98433756e-01, 3.74659504e-01,\n",
       "        7.75234912e-01],\n",
       "       [9.29520053e-01, 1.48524425e-04, 3.60554369e-02, 9.56095021e-01,\n",
       "        5.39793092e-01],\n",
       "       [9.90051030e-01, 2.30885922e-01, 2.42745415e-01, 6.51222736e-01,\n",
       "        5.65262980e-01]])"
      ]
     },
     "execution_count": 9,
     "metadata": {},
     "output_type": "execute_result"
    }
   ],
   "source": [
    "# Question 3. Use NumPy to generate an array of 25 random numbers sampled \n",
    "# from a standard normal distribution<br><br>\n",
    "# NOTE: Your result's values should be different from the ones shown below.\n",
    "import numpy as np\n",
    "np_random = np.random.rand(25)\n",
    "np_random = np_random.reshape(5,5)\n",
    "np_random "
   ]
  },
  {
   "cell_type": "code",
   "execution_count": 10,
   "id": "1da30e9f",
   "metadata": {},
   "outputs": [
    {
     "data": {
      "text/plain": [
       "array([[0.45796646, 0.32758944, 0.70588022, 0.65588339, 0.09717654],\n",
       "       [0.86411958, 0.09113262, 0.76548104, 0.451238  , 0.7023703 ],\n",
       "       [0.28859485, 0.81266043, 0.27047784, 0.85973267, 0.61853755],\n",
       "       [0.66571186, 0.79304544, 0.98087986, 0.52077626, 0.56101207],\n",
       "       [0.72545023, 0.2540717 , 0.89250999, 0.08020931, 0.71602347],\n",
       "       [0.99683188, 0.6724084 , 0.65527395, 0.64664964, 0.25944393],\n",
       "       [0.01144947, 0.44234825, 0.39781024, 0.07417699, 0.08389801],\n",
       "       [0.20121124, 0.26002073, 0.86480755, 0.38964698, 0.51112781],\n",
       "       [0.17616551, 0.85506548, 0.29169526, 0.59771969, 0.30361795],\n",
       "       [0.37987274, 0.83849271, 0.71354056, 0.47994404, 0.18044366]])"
      ]
     },
     "execution_count": 10,
     "metadata": {},
     "output_type": "execute_result"
    }
   ],
   "source": [
    "# Question 4. create this matrix\n",
    "# array([[0.01, 0.02, 0.03, 0.04, 0.05, 0.06, 0.07, 0.08, 0.09, 0.1 ],\n",
    "#        [0.11, 0.12, 0.13, 0.14, 0.15, 0.16, 0.17, 0.18, 0.19, 0.2 ],\n",
    "#        [0.21, 0.22, 0.23, 0.24, 0.25, 0.26, 0.27, 0.28, 0.29, 0.3 ],\n",
    "#        [0.31, 0.32, 0.33, 0.34, 0.35, 0.36, 0.37, 0.38, 0.39, 0.4 ],\n",
    "#        [0.41, 0.42, 0.43, 0.44, 0.45, 0.46, 0.47, 0.48, 0.49, 0.5 ],\n",
    "#        [0.51, 0.52, 0.53, 0.54, 0.55, 0.56, 0.57, 0.58, 0.59, 0.6 ],\n",
    "#        [0.61, 0.62, 0.63, 0.64, 0.65, 0.66, 0.67, 0.68, 0.69, 0.7 ],\n",
    "#        [0.71, 0.72, 0.73, 0.74, 0.75, 0.76, 0.77, 0.78, 0.79, 0.8 ],\n",
    "#        [0.81, 0.82, 0.83, 0.84, 0.85, 0.86, 0.87, 0.88, 0.89, 0.9 ],\n",
    "#        [0.91, 0.92, 0.93, 0.94, 0.95, 0.96, 0.97, 0.98, 0.99, 1.  ]])\n",
    "\n",
    "import numpy as np\n",
    "np_random1 = np.random.rand(50)\n",
    "np_random1 = np_random1.reshape(10,5)\n",
    "np_random1"
   ]
  },
  {
   "cell_type": "code",
   "execution_count": 11,
   "id": "439dfbfb",
   "metadata": {},
   "outputs": [
    {
     "data": {
      "text/plain": [
       "array([0.        , 0.05263158, 0.10526316, 0.15789474, 0.21052632,\n",
       "       0.26315789, 0.31578947, 0.36842105, 0.42105263, 0.47368421,\n",
       "       0.52631579, 0.57894737, 0.63157895, 0.68421053, 0.73684211,\n",
       "       0.78947368, 0.84210526, 0.89473684, 0.94736842, 1.        ])"
      ]
     },
     "execution_count": 11,
     "metadata": {},
     "output_type": "execute_result"
    }
   ],
   "source": [
    "# Question 5. Create an array of 20 linearly spaced points between 0 and 1:\n",
    "# Like the one below\n",
    "# array([0.        , 0.05263158, 0.10526316, 0.15789474, 0.21052632,\n",
    "#        0.26315789, 0.31578947, 0.36842105, 0.42105263, 0.47368421,\n",
    "#        0.52631579, 0.57894737, 0.63157895, 0.68421053, 0.73684211,\n",
    "#        0.78947368, 0.84210526, 0.89473684, 0.94736842, 1.        ])\n",
    "\n",
    "import numpy as np\n",
    "np_line_spaced = np.linspace(0,1,20)\n",
    "np_line_spaced"
   ]
  },
  {
   "cell_type": "code",
   "execution_count": 12,
   "id": "69f7bda8",
   "metadata": {},
   "outputs": [
    {
     "data": {
      "text/plain": [
       "array([[ 1,  2,  3,  4,  5],\n",
       "       [ 6,  7,  8,  9, 10],\n",
       "       [11, 12, 13, 14, 15],\n",
       "       [16, 17, 18, 19, 20],\n",
       "       [21, 22, 23, 24, 25]])"
      ]
     },
     "execution_count": 12,
     "metadata": {},
     "output_type": "execute_result"
    }
   ],
   "source": [
    "# NB: use this data to solve subsequent challenges\n",
    "import numpy as np\n",
    "data = np.arange(1,26).reshape(5,5)\n",
    "data"
   ]
  },
  {
   "cell_type": "code",
   "execution_count": 13,
   "id": "20c8309a",
   "metadata": {},
   "outputs": [
    {
     "data": {
      "text/plain": [
       "array([[12, 13, 14, 15],\n",
       "       [17, 18, 19, 20],\n",
       "       [22, 23, 24, 25]])"
      ]
     },
     "execution_count": 13,
     "metadata": {},
     "output_type": "execute_result"
    }
   ],
   "source": [
    "# Question 7. bring out the follow from data above\n",
    "# array([[12, 13, 14, 15],\n",
    "#        [17, 18, 19, 20],\n",
    "#        [22, 23, 24, 25]])\n",
    "\n",
    "data[2:5,1:5]"
   ]
  },
  {
   "cell_type": "code",
   "execution_count": 14,
   "id": "7b8d84a9",
   "metadata": {},
   "outputs": [
    {
     "data": {
      "text/plain": [
       "array([[ 7],\n",
       "       [12],\n",
       "       [17]])"
      ]
     },
     "execution_count": 14,
     "metadata": {},
     "output_type": "execute_result"
    }
   ],
   "source": [
    "# Question 8. produce the output below from the data above\n",
    "# array([[ 2],\n",
    "#        [ 7],\n",
    "#        [12]])\n",
    "\n",
    "data[1:4,1:2]"
   ]
  },
  {
   "cell_type": "code",
   "execution_count": 15,
   "id": "f3beb138",
   "metadata": {},
   "outputs": [
    {
     "data": {
      "text/plain": [
       "array([[21, 22, 23, 24, 25]])"
      ]
     },
     "execution_count": 15,
     "metadata": {},
     "output_type": "execute_result"
    }
   ],
   "source": [
    "# Question 9. produce the output below from the data above\n",
    "# array([21, 22, 23, 24, 25])\n",
    "\n",
    "data[4:5]"
   ]
  },
  {
   "cell_type": "code",
   "execution_count": 16,
   "id": "2d9424d6",
   "metadata": {},
   "outputs": [
    {
     "data": {
      "text/plain": [
       "325"
      ]
     },
     "execution_count": 16,
     "metadata": {},
     "output_type": "execute_result"
    }
   ],
   "source": [
    "# Question 10. Get the sum of all the values in data\n",
    "data.sum()"
   ]
  },
  {
   "cell_type": "code",
   "execution_count": 17,
   "id": "dbd4bb45",
   "metadata": {},
   "outputs": [
    {
     "data": {
      "text/plain": [
       "array([ 15,  40,  65,  90, 115])"
      ]
     },
     "execution_count": 17,
     "metadata": {},
     "output_type": "execute_result"
    }
   ],
   "source": [
    "# Question 11. Get the sum of all the columns in matrix\n",
    "data.sum(axis=1)"
   ]
  },
  {
   "cell_type": "code",
   "execution_count": null,
   "id": "97ffb33e",
   "metadata": {},
   "outputs": [],
   "source": []
  }
 ],
 "metadata": {
  "kernelspec": {
   "display_name": "Python 3 (ipykernel)",
   "language": "python",
   "name": "python3"
  },
  "language_info": {
   "codemirror_mode": {
    "name": "ipython",
    "version": 3
   },
   "file_extension": ".py",
   "mimetype": "text/x-python",
   "name": "python",
   "nbconvert_exporter": "python",
   "pygments_lexer": "ipython3",
   "version": "3.9.13"
  }
 },
 "nbformat": 4,
 "nbformat_minor": 5
}
